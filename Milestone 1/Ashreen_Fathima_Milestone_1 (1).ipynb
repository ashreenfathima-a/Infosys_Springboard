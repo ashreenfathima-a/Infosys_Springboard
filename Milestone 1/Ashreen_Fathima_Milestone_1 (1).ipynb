{
  "nbformat": 4,
  "nbformat_minor": 0,
  "metadata": {
    "colab": {
      "provenance": []
    },
    "kernelspec": {
      "name": "python3",
      "display_name": "Python 3"
    },
    "language_info": {
      "name": "python"
    }
  },
  "cells": [
    {
      "cell_type": "code",
      "execution_count": 26,
      "metadata": {
        "id": "HOh-qHzulqr5"
      },
      "outputs": [],
      "source": [
        "!pip install -q sentence-transformers faiss-cpu matplotlib seaborn scikit-learn pandas\n",
        "import ast, faiss, numpy as np, pandas as pd, seaborn as sns, matplotlib.pyplot as plt\n",
        "from sentence_transformers import SentenceTransformer\n",
        "from sklearn.metrics.pairwise import cosine_similarity\n",
        "from sklearn.manifold import TSNE\n",
        "from sklearn.decomposition import PCA\n",
        "\n",
        "\n"
      ]
    },
    {
      "cell_type": "code",
      "source": [
        "\"\"\"\n",
        "INFOSYS CODEGENIE – MILESTONE 1\n",
        "--------------------------------\n",
        "Objective:\n",
        "To build a Code Explainer pipeline that parses and understands code snippets using NLP models.\n",
        "\n",
        "Key Steps:\n",
        "1. Parse code using AST\n",
        "2. Extract features (functions, imports, loops)\n",
        "3. Tokenize and embed using pretrained transformer models\n",
        "4. Compare embeddings and visualize similarities\n",
        "5. Prepare for RAG-based explanation (Milestone 2)\n",
        "\"\"\"\n",
        "\n"
      ],
      "metadata": {
        "id": "bZb_UMhNmSUs",
        "colab": {
          "base_uri": "https://localhost:8080/",
          "height": 70
        },
        "outputId": "40a38bd5-aba4-4224-e567-07ec97e7589e"
      },
      "execution_count": 27,
      "outputs": [
        {
          "output_type": "execute_result",
          "data": {
            "text/plain": [
              "'\\nINFOSYS CODEGENIE – MILESTONE 1\\n--------------------------------\\nObjective:\\nTo build a Code Explainer pipeline that parses and understands code snippets using NLP models.\\n\\nKey Steps:\\n1. Parse code using AST\\n2. Extract features (functions, imports, loops)\\n3. Tokenize and embed using pretrained transformer models\\n4. Compare embeddings and visualize similarities\\n5. Prepare for RAG-based explanation (Milestone 2)\\n'"
            ],
            "application/vnd.google.colaboratory.intrinsic+json": {
              "type": "string"
            }
          },
          "metadata": {},
          "execution_count": 27
        }
      ]
    },
    {
      "cell_type": "code",
      "source": [
        "code_snippets = [\n",
        "    \"def add(a, b): return a + b\",\n",
        "    \"def multiply(x, y): return x * y\",\n",
        "    \"def factorial(n): return 1 if n==0 else n * factorial(n-1)\",\n",
        "    \"def is_even(num): return num % 2 == 0\",\n",
        "    \"def fibonacci(n): a,b=0,1\\n for _ in range(n): a,b=b,a+b\\n return a\",\n",
        "    \"def reverse_string(s): return s[::-1]\",\n",
        "    \"def find_max(lst): return max(lst)\",\n",
        "    \"def square_list(nums): return [x**2 for x in nums]\",\n",
        "    \"def greet(name): return f'Hello {name}!'\",\n",
        "    \"def divide(a,b):\\n try: return a/b\\n except ZeroDivisionError: return None\"\n",
        "]\n",
        "len(code_snippets)\n"
      ],
      "metadata": {
        "id": "pkSJr6gRmTfb",
        "colab": {
          "base_uri": "https://localhost:8080/"
        },
        "outputId": "a7bf5c05-dce5-4794-bf5d-4779792d4517"
      },
      "execution_count": 28,
      "outputs": [
        {
          "output_type": "execute_result",
          "data": {
            "text/plain": [
              "10"
            ]
          },
          "metadata": {},
          "execution_count": 28
        }
      ]
    },
    {
      "cell_type": "code",
      "source": [
        "import ast\n",
        "import textwrap\n",
        "\n",
        "# Function to extract AST-based metadata safely\n",
        "def extract_ast_features(code):\n",
        "    try:\n",
        "        # Clean and normalize indentation\n",
        "        cleaned_code = textwrap.dedent(code).strip()\n",
        "        tree = ast.parse(cleaned_code)\n",
        "        return {\n",
        "            \"num_nodes\": len(list(ast.walk(tree))),\n",
        "            \"num_functions\": len([n for n in ast.walk(tree) if isinstance(n, ast.FunctionDef)]),\n",
        "            \"num_loops\": len([n for n in ast.walk(tree) if isinstance(n, (ast.For, ast.While))]),\n",
        "            \"num_imports\": len([n for n in ast.walk(tree) if isinstance(n, ast.Import)]),\n",
        "        }\n",
        "    except Exception as e:\n",
        "        return {\"error\": str(e)}\n",
        "\n",
        "# Example code snippets (AI-related)\n",
        "code_snippets = [\n",
        "    \"def sigmoid(x):\\n    return 1 / (1 + math.exp(-x))\",\n",
        "    \"def relu(x):\\n    return max(0, x)\",\n",
        "    \"def softmax(x):\\n    e_x = np.exp(x - np.max(x))\\n    return e_x / e_x.sum(axis=0)\",\n",
        "    \"def fibonacci(n):\\n    a, b = 0, 1\\n    for _ in range(n):\\n        a, b = b, a + b\\n    return a\"\n",
        "]\n",
        "\n",
        "# Extract metadata safely\n",
        "metadata = [extract_ast_features(code) for code in code_snippets]\n",
        "metadata\n",
        "\n",
        "\n"
      ],
      "metadata": {
        "colab": {
          "base_uri": "https://localhost:8080/"
        },
        "id": "N10JyQYHmaVs",
        "outputId": "c0e480df-7f8b-498d-8340-edc367d2ee98"
      },
      "execution_count": 29,
      "outputs": [
        {
          "output_type": "execute_result",
          "data": {
            "text/plain": [
              "[{'num_nodes': 20, 'num_functions': 1, 'num_loops': 0, 'num_imports': 0},\n",
              " {'num_nodes': 11, 'num_functions': 1, 'num_loops': 0, 'num_imports': 0},\n",
              " {'num_nodes': 35, 'num_functions': 1, 'num_loops': 0, 'num_imports': 0},\n",
              " {'num_nodes': 43, 'num_functions': 1, 'num_loops': 1, 'num_imports': 0}]"
            ]
          },
          "metadata": {},
          "execution_count": 29
        }
      ]
    },
    {
      "cell_type": "code",
      "source": [
        "import io\n",
        "import tokenize\n",
        "\n",
        "# Function to tokenize Python code snippets\n",
        "def tokenize_code(code):\n",
        "    tokens = []\n",
        "    try:\n",
        "        for tok in tokenize.generate_tokens(io.StringIO(code).readline):\n",
        "            tokens.append(tok.string)\n",
        "    except Exception as e:\n",
        "        tokens.append(f\"<error:{e}>\")\n",
        "    return \" \".join(tokens)\n",
        "\n",
        "# Example snippets for testing\n",
        "code_snippets = [\n",
        "    \"def sigmoid(x): return 1 / (1 + math.exp(-x))\",\n",
        "    \"def relu(x): return max(0, x)\",\n",
        "    \"def softmax(x): e_x = np.exp(x - np.max(x)); return e_x / e_x.sum(axis=0)\",\n",
        "    \"def fibonacci(n): a, b = 0, 1; for _ in range(n): a, b = b, a + b; return a\"\n",
        "]\n",
        "\n",
        "# Tokenize each code snippet\n",
        "tokenized_snippets = [tokenize_code(code) for code in code_snippets]\n",
        "tokenized_snippets[:3]\n"
      ],
      "metadata": {
        "colab": {
          "base_uri": "https://localhost:8080/"
        },
        "id": "dlq4F17zmdn4",
        "outputId": "b5015726-712d-4b64-d7c4-54c3e4120feb"
      },
      "execution_count": 30,
      "outputs": [
        {
          "output_type": "execute_result",
          "data": {
            "text/plain": [
              "['def sigmoid ( x ) : return 1 / ( 1 + math . exp ( - x ) )  ',\n",
              " 'def relu ( x ) : return max ( 0 , x )  ',\n",
              " 'def softmax ( x ) : e_x = np . exp ( x - np . max ( x ) ) ; return e_x / e_x . sum ( axis = 0 )  ']"
            ]
          },
          "metadata": {},
          "execution_count": 30
        }
      ]
    },
    {
      "cell_type": "code",
      "source": [
        "models = {\n",
        "    \"MiniLM\": SentenceTransformer(\"all-MiniLM-L6-v2\"),\n",
        "    \"DistilRoBERTa\": SentenceTransformer(\"paraphrase-distilroberta-base-v1\"),\n",
        "    \"MPNet\": SentenceTransformer(\"all-mpnet-base-v2\")\n",
        "}\n",
        "\n",
        "embeddings_dict = {name: model.encode(code_snippets, convert_to_numpy=True) for name, model in models.items()}\n",
        "for name, emb in embeddings_dict.items():\n",
        "    print(f\"{name} embeddings shape:\", emb.shape)\n",
        "\n"
      ],
      "metadata": {
        "id": "aIXW7fUGmhX2",
        "colab": {
          "base_uri": "https://localhost:8080/"
        },
        "outputId": "d39ce12b-568b-431d-de97-9bc37d0cc97a"
      },
      "execution_count": 31,
      "outputs": [
        {
          "output_type": "stream",
          "name": "stdout",
          "text": [
            "MiniLM embeddings shape: (4, 384)\n",
            "DistilRoBERTa embeddings shape: (4, 768)\n",
            "MPNet embeddings shape: (4, 768)\n"
          ]
        }
      ]
    },
    {
      "cell_type": "code",
      "source": [
        "from sentence_transformers import SentenceTransformer\n",
        "from sklearn.metrics.pairwise import cosine_similarity\n",
        "import seaborn as sns\n",
        "import matplotlib.pyplot as plt\n",
        "\n",
        "# ✅ Use a code understanding model\n",
        "model = SentenceTransformer('microsoft/codebert-base')  # specialized for code\n",
        "\n",
        "# Encode your tokenized snippets\n",
        "embeddings = model.encode(tokenized_snippets)\n",
        "\n",
        "# Compute similarity\n",
        "similarity_matrix = cosine_similarity(embeddings)\n",
        "\n",
        "# Plot heatmap\n",
        "plt.figure(figsize=(8,6))\n",
        "sns.heatmap(similarity_matrix, annot=True, cmap='viridis')\n",
        "plt.title(\"Code Snippet Semantic Similarity (CodeBERT)\")\n",
        "plt.show()\n"
      ],
      "metadata": {
        "id": "3Qm8Waw0mlIa",
        "colab": {
          "base_uri": "https://localhost:8080/",
          "height": 562
        },
        "outputId": "734c4d28-3f24-48e7-9893-e60d0c01f056"
      },
      "execution_count": 32,
      "outputs": [
        {
          "output_type": "stream",
          "name": "stderr",
          "text": [
            "WARNING:sentence_transformers.SentenceTransformer:No sentence-transformers model found with name microsoft/codebert-base. Creating a new one with mean pooling.\n"
          ]
        },
        {
          "output_type": "display_data",
          "data": {
            "text/plain": [
              "<Figure size 800x600 with 2 Axes>"
            ],
            "image/png": "[encoded data removed]"
          },
          "metadata": {}
        }
      ]
    },
    {
      "cell_type": "code",
      "source": [
        "from sklearn.manifold import TSNE\n",
        "import matplotlib.pyplot as plt\n",
        "\n",
        "# Convert embeddings into 2D space for visualization\n",
        "tsne = TSNE(n_components=2, random_state=42, perplexity=2)\n",
        "tsne_result = tsne.fit_transform(embeddings)\n",
        "\n",
        "# Scatter plot for visualizing relationships\n",
        "plt.figure(figsize=(6,5))\n",
        "plt.scatter(tsne_result[:,0], tsne_result[:,1], color='blue')\n",
        "\n",
        "# Annotate points with snippet indices\n",
        "for i, txt in enumerate(range(len(tokenized_snippets))):\n",
        "    plt.annotate(f\"Snippet {i+1}\", (tsne_result[i,0], tsne_result[i,1]))\n",
        "\n",
        "plt.title(\"t-SNE Visualization of Code Embeddings\")\n",
        "plt.xlabel(\"Component 1\")\n",
        "plt.ylabel(\"Component 2\")\n",
        "plt.show()\n",
        "\n",
        "\n"
      ],
      "metadata": {
        "id": "rqHS7K9Mmo1P",
        "colab": {
          "base_uri": "https://localhost:8080/",
          "height": 487
        },
        "outputId": "2ed80c6b-987a-48a8-9641-49b16f2858c6"
      },
      "execution_count": 33,
      "outputs": [
        {
          "output_type": "display_data",
          "data": {
            "text/plain": [
              "<Figure size 600x500 with 1 Axes>"
            ],
            "image/png": "[encoded data removed]"
          },
          "metadata": {}
        }
      ]
    },
    {
      "cell_type": "code",
      "source": [
        "model = models[\"MiniLM\"]\n",
        "embeddings = embeddings_dict[\"MiniLM\"]\n",
        "\n",
        "dimension = embeddings.shape[1]\n",
        "index = faiss.IndexFlatL2(dimension)\n",
        "index.add(embeddings)\n",
        "\n",
        "query = \"def sum_values(a,b): return a + b\"\n",
        "query_vec = model.encode([query])\n",
        "D, I = index.search(query_vec, 3)\n",
        "\n",
        "print(\"🔍 Query:\", query)\n",
        "print(\"\\nMost Similar Snippets Retrieved:\")\n",
        "for rank, idx in enumerate(I[0]):\n",
        "    print(f\"\\nRank {rank+1} | Snippet {idx} | Distance: {D[0][rank]:.4f}\")\n",
        "    print(code_snippets[idx])\n",
        "\n"
      ],
      "metadata": {
        "colab": {
          "base_uri": "https://localhost:8080/"
        },
        "id": "UCH_AocQmrqy",
        "outputId": "70cb7507-2291-4f23-c9c3-84f6b8e235e3"
      },
      "execution_count": 34,
      "outputs": [
        {
          "output_type": "stream",
          "name": "stdout",
          "text": [
            "🔍 Query: def sum_values(a,b): return a + b\n",
            "\n",
            "Most Similar Snippets Retrieved:\n",
            "\n",
            "Rank 1 | Snippet 3 | Distance: 1.0409\n",
            "def fibonacci(n): a, b = 0, 1; for _ in range(n): a, b = b, a + b; return a\n",
            "\n",
            "Rank 2 | Snippet 1 | Distance: 1.3065\n",
            "def relu(x): return max(0, x)\n",
            "\n",
            "Rank 3 | Snippet 2 | Distance: 1.3280\n",
            "def softmax(x): e_x = np.exp(x - np.max(x)); return e_x / e_x.sum(axis=0)\n"
          ]
        }
      ]
    },
    {
      "cell_type": "code",
      "source": [
        "print(\"\"\"\n",
        "✅ Milestone 1 Completed (Infosys CodeGenie Project)\n",
        "----------------------------------------------------\n",
        "• Implemented Code Parsing using AST.\n",
        "• Generated embeddings using MiniLM, DistilRoBERTa, and MPNet.\n",
        "• Compared model similarity using Heatmaps.\n",
        "• Visualized embeddings using PCA and t-SNE.\n",
        "• Built FAISS-based retrieval system for similar snippets.\n",
        "\"\"\")\n"
      ],
      "metadata": {
        "colab": {
          "base_uri": "https://localhost:8080/"
        },
        "id": "fQNbnlRdSCPj",
        "outputId": "4fbe3ab3-e9bc-4c0c-a81b-cab5d337ba9c"
      },
      "execution_count": 36,
      "outputs": [
        {
          "output_type": "stream",
          "name": "stdout",
          "text": [
            "\n",
            "✅ Milestone 1 Completed (Infosys CodeGenie Project)\n",
            "----------------------------------------------------\n",
            "• Implemented Code Parsing using AST.\n",
            "• Generated embeddings using MiniLM, DistilRoBERTa, and MPNet.\n",
            "• Compared model similarity using Heatmaps.\n",
            "• Visualized embeddings using PCA and t-SNE.\n",
            "• Built FAISS-based retrieval system for similar snippets.\n",
            "\n"
          ]
        }
      ]
    }
  ]
}