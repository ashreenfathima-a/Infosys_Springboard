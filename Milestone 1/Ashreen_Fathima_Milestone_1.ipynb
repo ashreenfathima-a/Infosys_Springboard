{
  "nbformat": 4,
  "nbformat_minor": 0,
  "metadata": {
    "colab": {
      "provenance": []
    },
    "kernelspec": {
      "name": "python3",
      "display_name": "Python 3"
    },
    "language_info": {
      "name": "python"
    }
  },
  "cells": [
    {
      "cell_type": "code",
      "execution_count": 9,
      "metadata": {
        "id": "HOh-qHzulqr5"
      },
      "outputs": [],
      "source": [
        "!pip install -q sentence-transformers scikit-learn pandas matplotlib seaborn\n",
        "\n"
      ]
    },
    {
      "cell_type": "code",
      "source": [
        "import ast\n",
        "import tokenize\n",
        "import io\n",
        "from sentence_transformers import SentenceTransformer, util\n",
        "import matplotlib.pyplot as plt\n",
        "import networkx as nx\n"
      ],
      "metadata": {
        "id": "bZb_UMhNmSUs"
      },
      "execution_count": 10,
      "outputs": []
    },
    {
      "cell_type": "code",
      "source": [
        "code_snippets = [\n",
        "    # 1. Simple perceptron step function\n",
        "    \"def step_function(x): return 1 if x > 0 else 0\",\n",
        "\n",
        "    # 2. Sigmoid activation\n",
        "    \"import math\\ndef sigmoid(x): return 1 / (1 + math.exp(-x))\",\n",
        "\n",
        "    # 3. ReLU activation\n",
        "    \"def relu(x): return max(0, x)\",\n",
        "\n",
        "    # 4. Softmax function\n",
        "    \"import numpy as np\\ndef softmax(x): return np.exp(x) / np.sum(np.exp(x))\",\n",
        "\n",
        "    # 5. Mean Squared Error loss\n",
        "    \"def mse(y_true, y_pred): return ((y_true - y_pred)**2).mean()\",\n",
        "\n",
        "    # 6. Gradient Descent step (toy)\n",
        "    \"def gradient_descent(w, grad, lr=0.01): return w - lr * grad\",\n",
        "\n",
        "    # 7. Initialize random weights\n",
        "    \"import numpy as np\\ndef init_weights(n): return np.random.randn(n)\",\n",
        "\n",
        "    # 8. Forward pass of a single neuron\n",
        "    \"import numpy as np\\ndef neuron(inputs, weights, bias): return np.dot(inputs, weights) + bias\",\n",
        "\n",
        "    # 9. One-hot encoding\n",
        "    \"import numpy as np\\ndef one_hot(labels, num_classes): return np.eye(num_classes)[labels]\",\n",
        "\n",
        "    # 10. Predict using linear regression\n",
        "    \"def predict(X, w, b): return X @ w + b\"\n",
        "]\n"
      ],
      "metadata": {
        "id": "pkSJr6gRmTfb"
      },
      "execution_count": 11,
      "outputs": []
    },
    {
      "cell_type": "code",
      "source": [
        "def parse_ast(code):\n",
        "    return ast.dump(ast.parse(code))\n",
        "\n",
        "parsed_snippets = [parse_ast(code) for code in code_snippets]\n",
        "parsed_snippets[:3]  # show first 3\n"
      ],
      "metadata": {
        "colab": {
          "base_uri": "https://localhost:8080/",
          "height": 0
        },
        "id": "N10JyQYHmaVs",
        "outputId": "76c9fb78-968a-4e58-f5e3-84701a10a790"
      },
      "execution_count": 12,
      "outputs": [
        {
          "output_type": "execute_result",
          "data": {
            "text/plain": [
              "[\"Module(body=[FunctionDef(name='step_function', args=arguments(posonlyargs=[], args=[arg(arg='x')], kwonlyargs=[], kw_defaults=[], defaults=[]), body=[Return(value=IfExp(test=Compare(left=Name(id='x', ctx=Load()), ops=[Gt()], comparators=[Constant(value=0)]), body=Constant(value=1), orelse=Constant(value=0)))], decorator_list=[], type_params=[])], type_ignores=[])\",\n",
              " \"Module(body=[Import(names=[alias(name='math')]), FunctionDef(name='sigmoid', args=arguments(posonlyargs=[], args=[arg(arg='x')], kwonlyargs=[], kw_defaults=[], defaults=[]), body=[Return(value=BinOp(left=Constant(value=1), op=Div(), right=BinOp(left=Constant(value=1), op=Add(), right=Call(func=Attribute(value=Name(id='math', ctx=Load()), attr='exp', ctx=Load()), args=[UnaryOp(op=USub(), operand=Name(id='x', ctx=Load()))], keywords=[]))))], decorator_list=[], type_params=[])], type_ignores=[])\",\n",
              " \"Module(body=[FunctionDef(name='relu', args=arguments(posonlyargs=[], args=[arg(arg='x')], kwonlyargs=[], kw_defaults=[], defaults=[]), body=[Return(value=Call(func=Name(id='max', ctx=Load()), args=[Constant(value=0), Name(id='x', ctx=Load())], keywords=[]))], decorator_list=[], type_params=[])], type_ignores=[])\"]"
            ]
          },
          "metadata": {},
          "execution_count": 12
        }
      ]
    },
    {
      "cell_type": "code",
      "source": [
        "def tokenize_code(code):\n",
        "    tokens = []\n",
        "    for tok in tokenize.generate_tokens(io.StringIO(code).readline):\n",
        "        tokens.append(tok.string)\n",
        "    return \" \".join(tokens)\n",
        "\n",
        "tokenized_snippets = [tokenize_code(code) for code in code_snippets]\n",
        "tokenized_snippets[:3]\n"
      ],
      "metadata": {
        "colab": {
          "base_uri": "https://localhost:8080/",
          "height": 0
        },
        "id": "dlq4F17zmdn4",
        "outputId": "ce26467d-626b-46b4-d791-5a2a3fefffb9"
      },
      "execution_count": 13,
      "outputs": [
        {
          "output_type": "execute_result",
          "data": {
            "text/plain": [
              "['def step_function ( x ) : return 1 if x > 0 else 0  ',\n",
              " 'import math \\n def sigmoid ( x ) : return 1 / ( 1 + math . exp ( - x ) )  ',\n",
              " 'def relu ( x ) : return max ( 0 , x )  ']"
            ]
          },
          "metadata": {},
          "execution_count": 13
        }
      ]
    },
    {
      "cell_type": "code",
      "source": [
        "from sentence_transformers import SentenceTransformer\n",
        "\n",
        "models = {\n",
        "    \"MiniLM\": SentenceTransformer(\"sentence-transformers/all-MiniLM-L6-v2\"),\n",
        "    \"DistilRoBERTa\": SentenceTransformer(\"sentence-transformers/paraphrase-distilroberta-base-v1\"),\n",
        "    \"MPNet\": SentenceTransformer(\"sentence-transformers/all-mpnet-base-v2\")\n",
        "}\n",
        "\n"
      ],
      "metadata": {
        "id": "aIXW7fUGmhX2"
      },
      "execution_count": 14,
      "outputs": []
    },
    {
      "cell_type": "code",
      "source": [
        "embeddings = {name: model.encode(tokenized_snippets, convert_to_tensor=True)\n",
        "              for name, model in models.items()}\n"
      ],
      "metadata": {
        "id": "3Qm8Waw0mlIa"
      },
      "execution_count": 15,
      "outputs": []
    },
    {
      "cell_type": "code",
      "source": [
        "similarities = {name: util.cos_sim(embed, embed).cpu().numpy()\n",
        "                for name, embed in embeddings.items()}\n"
      ],
      "metadata": {
        "id": "rqHS7K9Mmo1P"
      },
      "execution_count": 16,
      "outputs": []
    },
    {
      "cell_type": "code",
      "source": [
        "plt.imshow(similarities[\"MiniLM\"], cmap=\"viridis\")\n",
        "plt.colorbar()\n",
        "plt.title(\"Code Similarity Matrix (MiniLM)\")\n",
        "plt.show()\n"
      ],
      "metadata": {
        "colab": {
          "base_uri": "https://localhost:8080/",
          "height": 452
        },
        "id": "UCH_AocQmrqy",
        "outputId": "a8690d98-06ad-4eb9-f112-398acfdd31dc"
      },
      "execution_count": 17,
      "outputs": [
        {
          "output_type": "display_data",
          "data": {
            "text/plain": [
              "<Figure size 640x480 with 2 Axes>"
            ],
            "image/png": "[encoded data removed]"
          },
          "metadata": {}
        }
      ]
    },
    {
      "cell_type": "code",
      "source": [
        "sim_matrix = similarities[\"MiniLM\"]\n",
        "G = nx.Graph()\n",
        "\n",
        "for i in range(len(code_snippets)):\n",
        "    for j in range(i+1, len(code_snippets)):\n",
        "        if sim_matrix[i][j] > 0.5:  # threshold\n",
        "            G.add_edge(i, j, weight=sim_matrix[i][j])\n",
        "\n",
        "plt.figure(figsize=(6,6))\n",
        "nx.draw(G, with_labels=True, node_color=\"skyblue\", node_size=800, font_size=10)\n",
        "plt.title(\"Code Similarity Graph (MiniLM)\")\n",
        "plt.show()\n"
      ],
      "metadata": {
        "colab": {
          "base_uri": "https://localhost:8080/",
          "height": 659
        },
        "id": "Py55rPJLmvjB",
        "outputId": "253a8063-4569-4651-9aad-536a78799f47"
      },
      "execution_count": 18,
      "outputs": [
        {
          "output_type": "display_data",
          "data": {
            "text/plain": [
              "<Figure size 600x600 with 1 Axes>"
            ],
            "image/png": "[encoded data removed]"
          },
          "metadata": {}
        }
      ]
    }
  ]
}